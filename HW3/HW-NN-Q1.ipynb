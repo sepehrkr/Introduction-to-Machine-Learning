{
 "cells": [
  {
   "attachments": {},
   "cell_type": "markdown",
   "id": "1b46fe41",
   "metadata": {},
   "source": [
    "<div align=center>\n",
    "\n",
    "<font size=5>\n",
    "    In the Name of God\n",
    "<font/>\n",
    "<br/>\n",
    "<br/>\n",
    "<font>\n",
    "    Sharif University of Technology - Departmenet of Electrical Engineering\n",
    "</font>\n",
    "<br/>\n",
    "<font>\n",
    "    Introducing with Machine Learing - Dr. S. Amini\n",
    "</font>\n",
    "<br/>\n",
    "<br/>\n",
    "Spring 2023\n",
    "\n",
    "</div>\n",
    "\n",
    "<hr/>\n",
    "<div align=center>\n",
    "<font size=6>\n",
    "    Neural Networks Practical Assignment\n",
    "    \n",
    "    Question 1\n",
    "</font>\n",
    "<br/>\t\t\n",
    "<font size=4>\n",
    "<br/>\n",
    "</div>"
   ]
  },
  {
   "attachments": {},
   "cell_type": "markdown",
   "id": "24a0fc13",
   "metadata": {
    "id": "a6c2fd6d"
   },
   "source": [
    "# Personal Data"
   ]
  },
  {
   "cell_type": "code",
   "execution_count": 231,
   "id": "44babb65",
   "metadata": {
    "id": "4e90a030"
   },
   "outputs": [],
   "source": [
    "# Set your student number\n",
    "student_number = 99106599\n",
    "Name = 'Sepehr'\n",
    "Last_Name = 'Kazemi Ranjbar'"
   ]
  },
  {
   "attachments": {},
   "cell_type": "markdown",
   "id": "ca4a337a",
   "metadata": {
    "id": "339da203"
   },
   "source": [
    "# Rules\n",
    "- You are not allowed to add or remove cells. You **must use the provided space to write your code**. If you don't follow this rule, **your Practical Assignment won't be graded**.  \n",
    "\n",
    "- Collaboration and using the internet is allowed, but your code **must be written by yourself**. **Copying code** from each other or from available resources will result in a **zero score for the assignment**.\n",
    "\n",
    "- You are not allowed to use `torch.nn`, `torch.optim` and any activation function and loss function implemented in torch. "
   ]
  },
  {
   "cell_type": "code",
   "execution_count": null,
   "id": "12b76789",
   "metadata": {
    "id": "881f2e4c"
   },
   "outputs": [],
   "source": [
    "!pip install numpy\n",
    "!pip install matplotlib\n",
    "!pip install torchvision\n",
    "!pip install torch"
   ]
  },
  {
   "attachments": {},
   "cell_type": "markdown",
   "id": "886188c7",
   "metadata": {},
   "source": [
    "## Importing Libraries"
   ]
  },
  {
   "cell_type": "code",
   "execution_count": 232,
   "id": "55a0adcc",
   "metadata": {},
   "outputs": [],
   "source": [
    "import torch\n",
    "from torchvision.datasets import FashionMNIST\n",
    "from torchvision import transforms\n",
    "from torch.utils.data import DataLoader\n",
    "\n",
    "import numpy as np\n",
    "from matplotlib import pyplot as plt\n",
    "from typing import Dict"
   ]
  },
  {
   "attachments": {},
   "cell_type": "markdown",
   "id": "18510868",
   "metadata": {},
   "source": [
    "## Datasets and Dataloaders\n",
    "\n",
    "Here, we download and load the train and test `FashionMNIST` dataset with the desired transforms. Then, we define the dataloaders for `train` and `test`."
   ]
  },
  {
   "cell_type": "code",
   "execution_count": 233,
   "id": "dc8759e2",
   "metadata": {},
   "outputs": [],
   "source": [
    "train_set = FashionMNIST(root='.', train=True, download=True, transform=transforms.ToTensor())\n",
    "test_set = FashionMNIST(root='.', train=False, download=True, transform=transforms.ToTensor())"
   ]
  },
  {
   "cell_type": "code",
   "execution_count": 234,
   "id": "8f6763e6",
   "metadata": {},
   "outputs": [],
   "source": [
    "image_shape = train_set[0][0].shape\n",
    "input_dim = np.prod(image_shape).item()\n",
    "num_classes = len(FashionMNIST.classes)"
   ]
  },
  {
   "cell_type": "code",
   "execution_count": 235,
   "id": "c695ff60",
   "metadata": {},
   "outputs": [],
   "source": [
    "train_loader = DataLoader(train_set, 64, shuffle=True)\n",
    "test_loader = DataLoader(test_set, 64, shuffle=True)"
   ]
  },
  {
   "attachments": {},
   "cell_type": "markdown",
   "id": "f9dac6c2",
   "metadata": {},
   "source": [
    "## Visualization\n",
    "\n",
    "Visualize 1 random image from each class\n",
    "\n",
    "- **Hint**:  You can use `plt.subplots` for visualization"
   ]
  },
  {
   "cell_type": "code",
   "execution_count": 236,
   "id": "e3d6b0c1",
   "metadata": {},
   "outputs": [
    {
     "data": {
      "image/png": "[encoded data removed]",
      "text/plain": [
       "<Figure size 640x480 with 10 Axes>"
      ]
     },
     "metadata": {},
     "output_type": "display_data"
    }
   ],
   "source": [
    "## FILL HERE\n",
    "dataset_size = len(train_set)\n",
    "indexes = np.zeros(num_classes)\n",
    "for i in range(0,num_classes):\n",
    "    index = np.random.choice(dataset_size)\n",
    "    while train_set[index][1] != i:\n",
    "        index = np.random.choice(dataset_size)\n",
    "    indexes[i] = index\n",
    "for i in range(num_classes):\n",
    "    plt.subplot(2,5,i+1)\n",
    "    plt.imshow(train_set[int(indexes[i])][0][0,:,:],cmap='gray')\n",
    "plt.show()"
   ]
  },
  {
   "attachments": {},
   "cell_type": "markdown",
   "id": "a94c5aba",
   "metadata": {},
   "source": [
    "## Initializing model's parameters\n",
    "\n",
    "In this part, we create the model and initialize its parameters and store the values of these parameters in the variable `parameters` which is a dictionary including the weigths and biases of each layer."
   ]
  },
  {
   "cell_type": "code",
   "execution_count": 237,
   "id": "e6d40952",
   "metadata": {},
   "outputs": [],
   "source": [
    "def add_linear_layer(parameters: dict, shape, device, i=None):\n",
    "    \"\"\"\n",
    "    This function adds parameters of a linear unit of shape `shape` to the `parameters` dictionary.\n",
    "    \"\"\"\n",
    "    n_in, n_out = shape\n",
    "    with torch.no_grad():\n",
    "        w = torch.zeros(*shape, device=device)\n",
    "        # kaiming initialization for ReLU activations:\n",
    "        bound = 1 / np.sqrt(n_in).item()\n",
    "        w.uniform_(-bound, bound)\n",
    "        b = torch.zeros(n_out, device=device)  # no need to (1, n_out). it will broadcast itself.\n",
    "    w.requires_grad = True\n",
    "    b.requires_grad = True\n",
    "    # `i` is used to give numbers to parameter names\n",
    "    parameters.update({f'w{i}': w, f'b{i}': b})"
   ]
  },
  {
   "attachments": {},
   "cell_type": "markdown",
   "id": "ce914706",
   "metadata": {},
   "source": [
    "Now we define our neural network with the given layers and add the weights and biases to the dictionary `parameters`. **You are allowed to modify the values of the layers**."
   ]
  },
  {
   "cell_type": "code",
   "execution_count": 239,
   "id": "8f3867d7",
   "metadata": {},
   "outputs": [
    {
     "data": {
      "text/plain": [
       "dict_keys(['w0', 'b0', 'w1', 'b1', 'w2', 'b2', 'w3', 'b3', 'w4', 'b4'])"
      ]
     },
     "execution_count": 239,
     "metadata": {},
     "output_type": "execute_result"
    }
   ],
   "source": [
    "layers = [\n",
    "    (input_dim, 512),\n",
    "    (512, 256),\n",
    "    (256, 128),\n",
    "    (128, 64),\n",
    "    (64, num_classes)\n",
    "]\n",
    "num_layers = len(layers)\n",
    "parameters = {}\n",
    "\n",
    "# setting the device\n",
    "device = torch.device(\"cuda\" if torch.cuda.is_available() else \"cpu\")\n",
    "\n",
    "# adding the parameters to the dictionary\n",
    "for i, shape in enumerate(layers):\n",
    "    add_linear_layer(parameters, shape, device, i)\n",
    "\n",
    "parameters.keys()"
   ]
  },
  {
   "attachments": {},
   "cell_type": "markdown",
   "id": "8bfd2c8e",
   "metadata": {},
   "source": [
    "## Defining the required functions\n",
    "\n",
    "In this section, we should define the required functions. For each of these functions, the inputs and the desired outputs are given and you should write all or part of the function. **You are not allowed to use the activation functions and the loss functions implemented in torch**."
   ]
  },
  {
   "attachments": {},
   "cell_type": "markdown",
   "id": "f3b413d8",
   "metadata": {},
   "source": [
    "Computing affine and relu outputs:"
   ]
  },
  {
   "cell_type": "code",
   "execution_count": 240,
   "id": "bebeeb0e",
   "metadata": {},
   "outputs": [],
   "source": [
    "def affine_forward(x, w, b):\n",
    "    ## FILL HERE\n",
    "    return torch.matmul(x,w) + b\n",
    "\n",
    "def relu(x):\n",
    "    ## FILL HERE\n",
    "    return torch.maximum(x,torch.zeros(x.shape,device=device))"
   ]
  },
  {
   "attachments": {},
   "cell_type": "markdown",
   "id": "5d9baa5e",
   "metadata": {},
   "source": [
    "Function `model` returns output of the whole model for the input `x` using the parameters:"
   ]
  },
  {
   "cell_type": "code",
   "execution_count": 242,
   "id": "d2562962",
   "metadata": {},
   "outputs": [],
   "source": [
    "def model(x: torch.Tensor, parameters, num_layers=num_layers):\n",
    "    # number of batches\n",
    "    B = x.shape[0]\n",
    "    x = x.view(B, -1)\n",
    "    \n",
    "    ## FILL HERE\n",
    "    output_size = len(parameters[f'b{num_layers-1}'])\n",
    "    output = torch.zeros(B,output_size)\n",
    "    \n",
    "    # layer 1\n",
    "    x = affine_forward(x,parameters[f'w{0}'],parameters[f'b{0}'].repeat(B,1))\n",
    "    x = relu(x)\n",
    "\n",
    "    # layer 2\n",
    "    x = affine_forward(x,parameters[f'w{1}'],parameters[f'b{1}'].repeat(B,1))\n",
    "    x = relu(x)\n",
    "\n",
    "    # layer 3\n",
    "    x = affine_forward(x,parameters[f'w{2}'],parameters[f'b{2}'].repeat(B,1))\n",
    "    x = relu(x)\n",
    "\n",
    "    # layer 4\n",
    "    x = affine_forward(x,parameters[f'w{3}'],parameters[f'b{3}'].repeat(B,1))\n",
    "    x = relu(x)\n",
    "\n",
    "    # layer 5\n",
    "    x = affine_forward(x,parameters[f'w{4}'],parameters[f'b{4}'].repeat(B,1))\n",
    "\n",
    "    # softmax layer\n",
    "    print (x.shape)\n",
    "    output = torch.exp(x) / torch.exp(x).sum(-1).view(B,1)\n",
    "\n",
    "    return output"
   ]
  },
  {
   "attachments": {},
   "cell_type": "markdown",
   "id": "d17a9b4c",
   "metadata": {},
   "source": [
    "Implementing cross entropy loss:"
   ]
  },
  {
   "cell_type": "code",
   "execution_count": 243,
   "id": "6959621c",
   "metadata": {},
   "outputs": [],
   "source": [
    "def cross_entropy_loss(scores, y):\n",
    "    n = len(y)\n",
    "    ## FILL HERE\n",
    "    loss = 0\n",
    "    log_scores = torch.log(scores)\n",
    "    for i in range(n):\n",
    "        label = y[i]\n",
    "        loss += -log_scores[i,label]\n",
    "    return loss"
   ]
  },
  {
   "attachments": {},
   "cell_type": "markdown",
   "id": "15a589af",
   "metadata": {},
   "source": [
    "Implementing a function for optimizing paramters and a function to zeroing out their gradients:"
   ]
  },
  {
   "cell_type": "code",
   "execution_count": 244,
   "id": "3121c147",
   "metadata": {},
   "outputs": [],
   "source": [
    "def sgd_optimizer(parameters: Dict[str, torch.Tensor], learning_rate=0.001):\n",
    "    '''This function gets the parameters and a learning rate. Then updates the parameters using their\n",
    "    gradient (parameter.grad). Finally, you should zero the gradients of the parameters after updating\n",
    "    the parameter value.'''\n",
    "    ## FILL HERE\n",
    "    with torch.no_grad():\n",
    "        for param in parameters.values():\n",
    "            param -= learning_rate * param.grad\n",
    "            param.grad.zero_()"
   ]
  },
  {
   "attachments": {},
   "cell_type": "markdown",
   "id": "e17b4cf8",
   "metadata": {},
   "source": [
    "Training functions:"
   ]
  },
  {
   "cell_type": "code",
   "execution_count": 245,
   "id": "76c0f03b",
   "metadata": {},
   "outputs": [],
   "source": [
    "def accuracy(y_pred: np.ndarray, y_true: np.ndarray):\n",
    "    ## FILL HERE\n",
    "    \"\"\"n = len(y_pred)\n",
    "    check = 0\n",
    "    for i in range(n):\n",
    "        if y_pred == y_true:\n",
    "            check += 1\n",
    "    acc = check / n \"\"\"\n",
    "    acc = (y_pred==y_true).sum().item()/len(y_pred)\n",
    "    return acc\n",
    "\n",
    "def train(train_loader, learning_rate=0.001, epoch=None):\n",
    "    '''This function implements the training loop for a single epoch. For each batch you should do the following:\n",
    "        1- Calculate the output of the model to the given input batch\n",
    "        2- Calculate the loss based on the model output\n",
    "        3- Update the gradients using loss.backward() method\n",
    "        4- Optimize the model parameters using the sgd_optimizer function defined previously\n",
    "        5- Print the train loss (Show the epoch and batch as well)\n",
    "        '''\n",
    "    train_loss = 0\n",
    "    batch_num = len(train_loader)\n",
    "    # Creating empty lists Y and Y_pred to store the labels and predictions of each batch\n",
    "    # for calculateing the accuracy later\n",
    "    Y = []\n",
    "    Y_pred = []\n",
    "    \n",
    "    \n",
    "    for i, (x, y) in enumerate(train_loader):\n",
    "        x = x.to(device)\n",
    "        y = y.to(device)\n",
    "        p = model(x, parameters)\n",
    "\n",
    "        ## FILL HERE\n",
    "        loss = cross_entropy_loss(p,y)\n",
    "        loss.backward()\n",
    "        sgd_optimizer(parameters,learning_rate)\n",
    "        \n",
    "        print(\"epoch: \",epoch,\", batch: \",i,\", train loss: \",loss.item())\n",
    "        train_loss += loss.item()\n",
    "\n",
    "        y_pred = p.argmax(dim=-1)\n",
    "        Y.append(y.cpu().numpy())\n",
    "        Y_pred.append(y_pred.cpu().numpy())\n",
    "\n",
    "    Y = np.concatenate(Y)\n",
    "    Y_pred = np.concatenate(Y_pred)\n",
    "    acc = accuracy(Y_pred, Y)\n",
    "    train_loss /= batch_num\n",
    "    print(f'Accuracy of train set: {acc}')\n",
    "    return train_loss, acc\n",
    "\n",
    "\n",
    "def validate(loader, epoch=None, set_name=None):\n",
    "    '''This function validates the model on the test dataloader. The function goes through each batch and does\n",
    "    the following on each batch:\n",
    "        1- Calculate the model output\n",
    "        2- Calculate the loss using the model output\n",
    "        3- Print the loss for each batch and epoch\n",
    "    \n",
    "    Finally the function calculates the model accuracy.'''\n",
    "    total_loss = 0\n",
    "    N = len(loader.dataset)\n",
    "    \n",
    "    # Creating empty lists Y and Y_pred to store the labels and predictions of each batch\n",
    "    # for calculateing the accuracy later\n",
    "    Y = []\n",
    "    Y_pred = []\n",
    "    for i, (x, y) in enumerate(loader):\n",
    "        x = x.to(device)\n",
    "        y = y.to(device)\n",
    "        p = model(x, parameters)\n",
    "\n",
    "        ## FILL HERE\n",
    "        loss = cross_entropy_loss(p,y)\n",
    "        total_loss += loss.item()\n",
    "        print(\"epoch: \",epoch,\", batch: \",i,\", test loss: \",loss.item())\n",
    "\n",
    "        y_pred = p.argmax(dim=-1)\n",
    "        Y.append(y.cpu().numpy())\n",
    "        Y_pred.append(y_pred.cpu().numpy())\n",
    "    Y = np.concatenate(Y)\n",
    "    Y_pred = np.concatenate(Y_pred)\n",
    "    total_loss /= N\n",
    "    acc = accuracy(Y_pred, Y)\n",
    "    print(f'Accuracy of {set_name} set: {acc}')\n",
    "\n",
    "    return total_loss, acc"
   ]
  },
  {
   "cell_type": "code",
   "execution_count": 210,
   "id": "87ebb4b6",
   "metadata": {},
   "outputs": [],
   "source": [
    "train_losses = []\n",
    "test_losses = []\n",
    "train_accuracies = []\n",
    "test_accuracies = []"
   ]
  },
  {
   "cell_type": "code",
   "execution_count": 202,
   "id": "28d4eb0b",
   "metadata": {},
   "outputs": [],
   "source": [
    "def train_model(dataloaders, num_epochs, learning_rate=0.001, model_name='pytorch_model'):\n",
    "    '''This function trains the model for the number of epochs given and stores, calculates and prints the train\n",
    "    and test losses and accuracies. Finally, it plots the accuracy and loss history for training and test sets'''\n",
    "    train_loader, test_loader = dataloaders\n",
    "\n",
    "    for epoch in range(num_epochs):\n",
    "        ## FILL HERE\n",
    "        ## You should calculate the train and test loss and accuracies for each epoch and add them to\n",
    "        ## the lists `train_losses`, `test_losses`, `train_accuracies` and `test_accuracies`\n",
    "        tl,ta =  train(train_loader,learning_rate,epoch)\n",
    "        train_losses.append(tl)\n",
    "        train_accuracies.append(ta)\n",
    "\n",
    "        tl,ta =  validate(test_loader,epoch,model_name)\n",
    "        test_losses.append(tl)\n",
    "        test_accuracies.append(ta)\n",
    "\n",
    "    ## plot the loss history of training and test sets \n",
    "    ## FILL HERE\n",
    "    epoch_array = np.arange(num_epochs)\n",
    "    plt.figure(figsize=(12,7))\n",
    "    plt.plot(epoch_array,train_losses,epoch_array,test_losses)\n",
    "    plt.grid(True,'both','both')\n",
    "    plt.legend([\"training losses\",'test losses'],fontsize=15)\n",
    "    plt.xlabel('epoch',fontsize=18)\n",
    "    ## plot the accuracy history of training and test sets\n",
    "    ## FILL HERE"
   ]
  },
  {
   "cell_type": "code",
   "execution_count": 213,
   "id": "2ec4bdd2",
   "metadata": {},
   "outputs": [
    {
     "name": "stdout",
     "output_type": "stream",
     "text": [
      "torch.Size([64, 10])\n"
     ]
    },
    {
     "ename": "RuntimeError",
     "evalue": "The size of tensor a (10) must match the size of tensor b (64) at non-singleton dimension 1",
     "output_type": "error",
     "traceback": [
      "\u001b[1;31m---------------------------------------------------------------------------\u001b[0m",
      "\u001b[1;31mRuntimeError\u001b[0m                              Traceback (most recent call last)",
      "Cell \u001b[1;32mIn[213], line 1\u001b[0m\n\u001b[1;32m----> 1\u001b[0m train_model([train_loader, test_loader], num_epochs\u001b[39m=\u001b[39;49m\u001b[39m25\u001b[39;49m, learning_rate\u001b[39m=\u001b[39;49m\u001b[39m1\u001b[39;49m)\n",
      "Cell \u001b[1;32mIn[202], line 10\u001b[0m, in \u001b[0;36mtrain_model\u001b[1;34m(dataloaders, num_epochs, learning_rate, model_name)\u001b[0m\n\u001b[0;32m      4\u001b[0m train_loader, test_loader \u001b[39m=\u001b[39m dataloaders\n\u001b[0;32m      6\u001b[0m \u001b[39mfor\u001b[39;00m epoch \u001b[39min\u001b[39;00m \u001b[39mrange\u001b[39m(num_epochs):\n\u001b[0;32m      7\u001b[0m     \u001b[39m## FILL HERE\u001b[39;00m\n\u001b[0;32m      8\u001b[0m     \u001b[39m## You should calculate the train and test loss and accuracies for each epoch and add them to\u001b[39;00m\n\u001b[0;32m      9\u001b[0m     \u001b[39m## the lists `train_losses`, `test_losses`, `train_accuracies` and `test_accuracies`\u001b[39;00m\n\u001b[1;32m---> 10\u001b[0m     tl,ta \u001b[39m=\u001b[39m  train(train_loader,learning_rate,epoch)\n\u001b[0;32m     11\u001b[0m     train_losses\u001b[39m.\u001b[39mappend(tl)\n\u001b[0;32m     12\u001b[0m     train_accuracies\u001b[39m.\u001b[39mappend(ta)\n",
      "Cell \u001b[1;32mIn[200], line 31\u001b[0m, in \u001b[0;36mtrain\u001b[1;34m(train_loader, learning_rate, epoch)\u001b[0m\n\u001b[0;32m     29\u001b[0m x \u001b[39m=\u001b[39m x\u001b[39m.\u001b[39mto(device)\n\u001b[0;32m     30\u001b[0m y \u001b[39m=\u001b[39m y\u001b[39m.\u001b[39mto(device)\n\u001b[1;32m---> 31\u001b[0m p \u001b[39m=\u001b[39m model(x, parameters)\n\u001b[0;32m     33\u001b[0m \u001b[39m## FILL HERE\u001b[39;00m\n\u001b[0;32m     34\u001b[0m loss \u001b[39m=\u001b[39m cross_entropy_loss(p,y)\n",
      "Cell \u001b[1;32mIn[212], line 31\u001b[0m, in \u001b[0;36mmodel\u001b[1;34m(x, parameters, num_layers)\u001b[0m\n\u001b[0;32m     29\u001b[0m \u001b[39m# softmax layer\u001b[39;00m\n\u001b[0;32m     30\u001b[0m \u001b[39mprint\u001b[39m (x\u001b[39m.\u001b[39mshape)\n\u001b[1;32m---> 31\u001b[0m output \u001b[39m=\u001b[39m torch\u001b[39m.\u001b[39;49mexp(x) \u001b[39m/\u001b[39;49m torch\u001b[39m.\u001b[39;49mexp(x)\u001b[39m.\u001b[39;49msum(\u001b[39m-\u001b[39;49m\u001b[39m1\u001b[39;49m)\n\u001b[0;32m     33\u001b[0m \u001b[39mreturn\u001b[39;00m output\n",
      "\u001b[1;31mRuntimeError\u001b[0m: The size of tensor a (10) must match the size of tensor b (64) at non-singleton dimension 1"
     ]
    }
   ],
   "source": [
    "train_model([train_loader, test_loader], num_epochs=25, learning_rate=1)"
   ]
  },
  {
   "cell_type": "code",
   "execution_count": null,
   "id": "ceb5783f",
   "metadata": {},
   "outputs": [],
   "source": [
    "print(f'Final test accuracy: {test_accuracies[-1]}')"
   ]
  },
  {
   "attachments": {},
   "cell_type": "markdown",
   "id": "a5e128ed",
   "metadata": {},
   "source": [
    "## Visualization of the labels and predictions\n",
    "\n",
    "In this section, you should visual one image from each class and show both the actual label and the predicted label for that image."
   ]
  },
  {
   "cell_type": "code",
   "execution_count": null,
   "id": "6c0b79fd",
   "metadata": {},
   "outputs": [],
   "source": [
    "## FILL HERE"
   ]
  }
 ],
 "metadata": {
  "kernelspec": {
   "display_name": "Python 3",
   "language": "python",
   "name": "python3"
  },
  "language_info": {
   "codemirror_mode": {
    "name": "ipython",
    "version": 3
   },
   "file_extension": ".py",
   "mimetype": "text/x-python",
   "name": "python",
   "nbconvert_exporter": "python",
   "pygments_lexer": "ipython3",
   "version": "3.9.6"
  }
 },
 "nbformat": 4,
 "nbformat_minor": 5
}
