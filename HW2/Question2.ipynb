{
  "cells": [
    {
      "attachments": {},
      "cell_type": "markdown",
      "metadata": {
        "id": "un_07izr0mCO"
      },
      "source": [
        "<h1 align=\"center\">An Introduction to Machine Learning - 25737</h1>\n",
        "<h4 align=\"center\">Dr. Sajjad Amini</h4>\n",
        "<h4 align=\"center\">Sharif University of Technology, Spring 2023</h4>\n",
        "\n",
        "**Student Name**: Sepehr kazemi Ranjbar\n",
        "\n",
        "**Student ID**: 99106599\n",
        "\n",
        "# Effect of Overfitting\n",
        "\n",
        "In this exercise, we want to examine the effect of **overfitting**. As you learned in class, using too many features in training can result in a model with very low loss on the training set but high loss on the validation and test set. For this purpose, we have prepared a dataset in the `q2-train.npy`, `q2-valid.npy`, and `q2-test.npy` files for you. We know that `y` is a polynomial function of `x` in this dataset, meaning that \n",
        "\n",
        "$$\n",
        "y = \\sum_{i=0}^{k}a_ix^i\n",
        "$$\n",
        "\n",
        "However, we do not know the exact value of `k`."
      ]
    },
    {
      "attachments": {},
      "cell_type": "markdown",
      "metadata": {
        "id": "rcSNUeqT158e"
      },
      "source": [
        "## Importing Libraries\n",
        "\n",
        "First, we import the necessary libraries for this assignment. Please note that you should only use these libraries and no other libraries are acceptable."
      ]
    },
    {
      "cell_type": "code",
      "execution_count": 1,
      "metadata": {
        "id": "UitW8b0J0jBa"
      },
      "outputs": [],
      "source": [
        "import numpy as np\n",
        "import matplotlib.pyplot as plt"
      ]
    },
    {
      "attachments": {},
      "cell_type": "markdown",
      "metadata": {
        "id": "Q1x7BaU22F4k"
      },
      "source": [
        "## Reading Data and Preprocessing\n",
        "\n",
        "In this part of the assignment, you should read data from the `.npy` files. The data in `q2-train.npy` file is your training set and should be stored in the `X_train` and `Y_train` variables. Similarly, the data in `q2-valid.npy` file is your validation set, and the data in `q2-test.npy` file is your test set, which should be stored in `X_val`, `Y_val`, `X_test`, and `Y_test` respectively. You can use the `np.load` function to read the `.npy` files."
      ]
    },
    {
      "cell_type": "code",
      "execution_count": 25,
      "metadata": {
        "id": "dDMeq10G2m0U"
      },
      "outputs": [],
      "source": [
        "X_train, Y_train, X_val, Y_val, X_test, Y_test = None, None, None, None, None, None\n",
        "\n",
        "### START CODE HERE ###\n",
        "temp = np.load('q2-train.npy')\n",
        "m,n = temp.shape\n",
        "X_train = temp[:,0].reshape((m,1))\n",
        "Y_train = temp[:,1].reshape((m,1))\n",
        "\n",
        "temp = np.load('q2-valid.npy')\n",
        "m,n = temp.shape\n",
        "X_val = temp[:,0].reshape((m,1))\n",
        "Y_val = temp[:,1].reshape((m,1))\n",
        "\n",
        "temp = np.load('q2-test.npy')\n",
        "m,n = temp.shape\n",
        "X_test = temp[:,0].reshape((m,1))\n",
        "Y_test = temp[:,1].reshape((m,1))\n",
        "\n",
        "### END CODE HERE ###"
      ]
    },
    {
      "attachments": {},
      "cell_type": "markdown",
      "metadata": {
        "id": "nyXpEfEa3Gw-"
      },
      "source": [
        "To find the best value of `k`, we want to change `k` from 1 to 12 and examine its effect on the validation set, and then choose the right value of `k`. For this purpose, we need to create a matrix with columns equal to $x^0$, $x^1$, $x^2$, ..., $x^k$ for every value of `k`. You can complete the following function to do this job. The function takes an $m \\times 1$ vector `X` containing values of input `x` and returns an $m \\times (k+1)$ matrix that has the properties mentioned above."
      ]
    },
    {
      "cell_type": "code",
      "execution_count": 12,
      "metadata": {
        "id": "DXw2tPO84Ksp"
      },
      "outputs": [],
      "source": [
        "def create_matrix(X,k):\n",
        "  '''\n",
        "  X: an m by 1 array \n",
        "  '''\n",
        "  m,n = X.shape\n",
        "  new_X = np.ones((m,1))\n",
        "  ### START CODE HERE ###\n",
        "  for i in range(1,k+1):\n",
        "    new_X = np.concatenate((new_X,X**i),axis=1)\n",
        "  ### END CODE HERE ###\n",
        "  return new_X"
      ]
    },
    {
      "attachments": {},
      "cell_type": "markdown",
      "metadata": {
        "id": "WCTuye7C5Aq3"
      },
      "source": [
        "## Validate Model\n",
        "\n",
        "Now, we want to train our model for every value of `k`. You can use any of the methods that we used in **Question 1** (gradient descent or direct calculation) for this purpose. The following function trains our model on the training set for a given value of `k`, and then returns the loss on the training set and validation set, as well as the weight vector `w`."
      ]
    },
    {
      "cell_type": "code",
      "execution_count": 13,
      "metadata": {
        "id": "9lfWITgf7yQH"
      },
      "outputs": [],
      "source": [
        "# If you need any other function for training write it here\n",
        "def loss(X, Y, w):\n",
        "  '''\n",
        "  X: an m by (n+1) matrix which includes inputs\n",
        "  Y: an m by 1 vector which includes heating loads\n",
        "  w: an (n+1) by 1 weight vector\n",
        "  '''\n",
        "  m, n = X.shape\n",
        "  loss = None\n",
        "  ### START CODE HERE ###\n",
        "  w_new = np.reshape(w,(n,1))\n",
        "  temp =  X @ w_new - Y\n",
        "  loss = (float)(1/m * np.transpose(temp) @ temp)\n",
        "  ### END CODE HERE ###\n",
        "  return loss\n",
        "\n",
        "def direct_method(X, Y):\n",
        "  '''\n",
        "  X: an m by (n+1) matrix which includes inputs\n",
        "  Y: an m by 1 vector which includes heating loads\n",
        "  '''\n",
        "  w = None\n",
        "  ### START CODE HERE ###\n",
        "  w = np.linalg.inv(np.transpose(X) @ X) @ np.transpose(X) @ Y\n",
        "  ### END CODE HERE ###\n",
        "  return w\n",
        "# (like gradient descent or anything else)"
      ]
    },
    {
      "cell_type": "code",
      "execution_count": 33,
      "metadata": {
        "id": "JaIs631q508z"
      },
      "outputs": [],
      "source": [
        "def train(X_train, Y_train, X_val, Y_val, k):\n",
        "  '''\n",
        "  X_train: an m_train by 1 vector contains training points\n",
        "  Y_train: an m_train by 1 vector contains training values\n",
        "  X_val: an m_val by 1 vector contains validation points\n",
        "  Y_val: an m_val by 1 vector contains validation values\n",
        "  k: degree of polynomial\n",
        "  '''\n",
        "  w, loss_train, loss_val = None, None, None\n",
        "  ### START CODE HERE ###\n",
        "  X_train_new = create_matrix(X_train,k)\n",
        "  w = direct_method(X_train_new,Y_train)\n",
        "  loss_train = loss(X_train_new,Y_train,w)\n",
        "  X_val_new = create_matrix(X_val,k)\n",
        "  loss_val = loss(X_val_new,Y_val,w)\n",
        "  ### END CODE HERE ###\n",
        "  return w, loss_train, loss_val"
      ]
    },
    {
      "attachments": {},
      "cell_type": "markdown",
      "metadata": {
        "id": "eAsZfxCu6YEf"
      },
      "source": [
        "In the cell below, you can change the value of `k` between 1 and 12 and plot the loss on the training and validation set as a function of `k` in the same plot.\n",
        "\n",
        "**Question**: Discuss about the effect of $k$.\n",
        "\n",
        "**Answer**: with increasing k, overfitting is more because our model comlexity growth without our training data increases. of course with increasing k, model accuracy increases too, so here we have a trade off between overfitting and model accuracy and the best value of k as shown below is k=8"
      ]
    },
    {
      "cell_type": "code",
      "execution_count": 40,
      "metadata": {
        "id": "knUTXtOv66Wx"
      },
      "outputs": [
        {
          "data": {
            "image/png": "[encoded data removed]",
            "text/plain": [
              "<Figure size 1200x700 with 1 Axes>"
            ]
          },
          "metadata": {},
          "output_type": "display_data"
        }
      ],
      "source": [
        "### START CODE HERE ###\n",
        "loss_val = np.zeros(12)\n",
        "loss_train = np.zeros(12)\n",
        "k = np.arange(1,13)\n",
        "w = None\n",
        "for i in k:\n",
        "    w,loss_train[i-1],loss_val[i-1] = train(X_train,Y_train,X_val,Y_val,i)\n",
        "plt.figure(figsize=(12,7))\n",
        "plt.plot(k,loss_train,'-o',k,loss_val,'-o')\n",
        "plt.grid(True,'both','both')\n",
        "plt.legend([\"train\",\"valid\"])\n",
        "plt.ylabel(\"Loss\",fontsize=14)\n",
        "plt.xlabel(\"$k$\",fontsize=16)\n",
        "plt.show()\n",
        "\n",
        "### END CODE HERE ###"
      ]
    },
    {
      "attachments": {},
      "cell_type": "markdown",
      "metadata": {
        "id": "K0M1d2Ez7JLJ"
      },
      "source": [
        "## Evaluating Model\n",
        "\n",
        "In the cell below find the loss of your best model on the test set.\n",
        "\n",
        "**Question**: Why we need test set?\n",
        "\n",
        "**Answer**: validation set is just a pre-test set for estimating parameter of our model and prevent overfitting. but at last we need test data that usually is greater set and the best option for evaluating model genralization. in some cases after evaluating parameter with validation set we combine train and validation set with new parameter and train it again. but finally with test we findout our model loss"
      ]
    },
    {
      "cell_type": "code",
      "execution_count": 42,
      "metadata": {
        "id": "Ex1P5H0A7emE"
      },
      "outputs": [
        {
          "data": {
            "text/plain": [
              "0.11791424797209024"
            ]
          },
          "execution_count": 42,
          "metadata": {},
          "output_type": "execute_result"
        }
      ],
      "source": [
        "### START CODE HERE ###\n",
        "w, train_loss, val_loss = train(X_train,Y_train,X_val,Y_val,8)\n",
        "X_test_new = create_matrix(X_test,8)\n",
        "test_loss = loss(X_test_new,Y_test,w)\n",
        "test_loss\n",
        "### END CODE HERE ###"
      ]
    }
  ],
  "metadata": {
    "colab": {
      "provenance": []
    },
    "kernelspec": {
      "display_name": "Python 3",
      "name": "python3"
    },
    "language_info": {
      "codemirror_mode": {
        "name": "ipython",
        "version": 3
      },
      "file_extension": ".py",
      "mimetype": "text/x-python",
      "name": "python",
      "nbconvert_exporter": "python",
      "pygments_lexer": "ipython3",
      "version": "3.9.6"
    }
  },
  "nbformat": 4,
  "nbformat_minor": 0
}
